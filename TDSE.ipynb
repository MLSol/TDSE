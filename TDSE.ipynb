{
 "cells": [
  {
   "cell_type": "code",
   "execution_count": null,
   "metadata": {
    "collapsed": false
   },
   "outputs": [],
   "source": [
    "# -*- coding: utf-8 -*-\n",
    "\"\"\"\n",
    "Created on Tue Apr 19 10:39:01 2016\n",
    "\n",
    "@author: Martijn Sol\n",
    "\"\"\"\n",
    "\n",
    "import numpy as np\n",
    "import matplotlib.pyplot as plt\n",
    "import matplotlib.animation as animation\n",
    "from scipy.linalg import toeplitz\n",
    "import time\n",
    "\n",
    "## Calculation of the solution of the Time Dependent Schrodinger Equation\n",
    "\n",
    "\n",
    "T = 0.5                 # end time\n",
    "Nt = 501                # Number of timesteps\n",
    "t = np.linspace(0,T,Nt) # time\n",
    "dt = T / (Nt - 1)       # size timestep\n",
    "\n",
    "L = 50                  \n",
    "Nx = 4001               # Number of spacial points\n",
    "x = np.linspace(-L,L,Nx)\n",
    "dx = L / (Nx - 1)       # size space step\n",
    "\n",
    "\n",
    "def barrier(h,left,right):\n",
    "    # Creates a potential barrier of heigth h between the left and right \n",
    "    # boundaries\n",
    "    V = h * 0.5 * (np.sign(x-left) - np.sign(x-right))\n",
    "    return V\n",
    "    \n",
    "def H(Nx,dx):\n",
    "    # Creates the Hamitonian in matrix form\n",
    "    toe = np.zeros((Nx))\n",
    "    toe[0] = 2\n",
    "    toe[1] = -1\n",
    "    H1 = toeplitz(toe,toe)\n",
    "    \n",
    "    # Dirichlet BC\n",
    "    #H1[0,Nx-1] = 999999\n",
    "    #H1[Nx-1,0] = 999999\n",
    "    \n",
    "    # Periodic BC\n",
    "    H1[0,Nx-1] = -1\n",
    "    H1[Nx-1,0] = -1\n",
    "    \n",
    "    H = H1/(dx**2) + V_m\n",
    "    return H\n"
   ]
  },
  {
   "cell_type": "code",
   "execution_count": null,
   "metadata": {
    "collapsed": true
   },
   "outputs": [],
   "source": [
    "## Initial conditions\n",
    "k_f = np.fft.fftfreq(Nx,dx) # array in k space\n",
    "k_n = np.fft.fftshift(k_f)\n",
    "\n",
    "width = 1       # spread in k space\n",
    "k0 = 8         # Group velocity\n",
    "psi_k0 = np.exp(-(k_f - k0) ** 2 / (2 * width **2)) # Initial condition in k space\n",
    "#normk = np.linalg.norm(psi_k0) ** 2\n",
    "#psi_k0 = psi_k0 / normk\n",
    "\n",
    "psi_x0 = np.fft.fftshift(np.fft.ifft(psi_k0, Nx)) # Initial condition in x space\n",
    "#normx = np.linalg.norm(psi_x0) ** 2\n",
    "#psi_x0 = psi_x0 / normx\n",
    "\n",
    "## Create the step matrix\n",
    "V = barrier(-3000, 5, 7)     # Set potential\n",
    "V_m = np.diag(V)\n",
    "H = H(Nx,dx)\n",
    "Hplus = np.eye(Nx) + 0.5 * 1j * dt * H\n",
    "Hmin = np.eye(Nx) - 0.5 * 1j * dt * H\n",
    "HplusInv = np.linalg.inv(Hplus)\n",
    "M = np.dot(HplusInv, Hmin)"
   ]
  },
  {
   "cell_type": "code",
   "execution_count": null,
   "metadata": {
    "collapsed": false
   },
   "outputs": [],
   "source": [
    "## Calculation of the wave function in time\n",
    "psi_x = np.zeros((Nt,Nx), dtype = complex)\n",
    "psi_x[0,:] = psi_x0\n",
    "psi_k = np.zeros((Nt,Nx), dtype = complex)\n",
    "psi_k[0,:] = psi_k0\n",
    "for i in range(Nt-1):\n",
    "    psi_x[i+1,:] = np.dot(M, psi_x[i,:])\n",
    "    psi_k[i+1,:] = np.fft.fft(psi_x[i+1,:])\n"
   ]
  },
  {
   "cell_type": "code",
   "execution_count": null,
   "metadata": {
    "collapsed": false
   },
   "outputs": [],
   "source": [
    "psi_kAbs = np.abs(psi_k) ** 2\n",
    "R = np.zeros(((Nx-1)/2,1))\n",
    "T = np.zeros(((Nx-1)/2,1))\n",
    "for i in range(int((Nx-1)/2)):\n",
    "    j = i + 1\n",
    "    # Only calculate coefficients if this k is sufficiently in the initial condition\n",
    "    if psi_kAbs[0,j] < 1e-20:\n",
    "        R[i,0] = 0\n",
    "        T[i,0] = 0\n",
    "    else:\n",
    "        R[i,0] = psi_kAbs[Nt-1, Nx - 1 - i] / psi_kAbs[0,j]\n",
    "        T[i,0] = psi_kAbs[Nt-1,j] / psi_kAbs[0,j]\n",
    "    "
   ]
  },
  {
   "cell_type": "code",
   "execution_count": null,
   "metadata": {
    "collapsed": false
   },
   "outputs": [],
   "source": [
    "## Plots of Reflection and Transmission coefficients\n",
    "fig = plt.figure(figsize=(8,6))\n",
    "plt.plot(k_f[1:(Nx+1)/2], T, 'b-')\n",
    "plt.ylabel('Transmission',fontsize=18)\n",
    "plt.xlabel('k',fontsize=18)\n",
    "plt.axis([0, 20, 0, 1.5])\n",
    "plt.grid()\n",
    "plt.show()\n",
    "\n",
    "fig = plt.figure(figsize=(8,6))\n",
    "plt.plot(k_f[1:(Nx+1)/2], R, 'b-')\n",
    "plt.ylabel('Reflection',fontsize=18)\n",
    "plt.xlabel('k',fontsize=18)\n",
    "plt.axis([0, 20, 0, 1.5])\n",
    "plt.grid()\n",
    "plt.show()\n",
    "\n",
    "# The plots show the transmission spectrum that we expect: oscilations with \n",
    "# some values of k being fully transmitted. Higher values of k (and thus energy)\n",
    "# are barely effected by the potential, thus having a transmission of 1.\n",
    "# Very low and very high k give incorrect transmission values (T>1) . This is \n",
    "# due to the finite dx, which causes these values to not be properly represented.\n"
   ]
  },
  {
   "cell_type": "code",
   "execution_count": null,
   "metadata": {
    "collapsed": true
   },
   "outputs": [],
   "source": [
    "## Animation in x space\n",
    "fig, ax = plt.subplots()\n",
    "\n",
    "line, = ax.plot(x, np.abs(psi_x[0,:])**2)\n",
    "\n",
    "def animate(i):\n",
    "    line.set_ydata(np.abs(psi_x[i,:])**2)  # update the data\n",
    "    return line,\n",
    "\n",
    "#Init only required for blitting to give a clean slate.\n",
    "def init():\n",
    "    line.set_ydata(np.ma.array(x, mask=True))\n",
    "    return line,\n",
    "\n",
    "ani = animation.FuncAnimation(fig, animate, np.arange(1, Nt), init_func=init,\n",
    "    interval=20, blit=True)\n",
    "plt.show()\n"
   ]
  },
  {
   "cell_type": "code",
   "execution_count": null,
   "metadata": {
    "collapsed": false
   },
   "outputs": [],
   "source": [
    "# Animation in k space\n",
    "fig, ax = plt.subplots()\n",
    "\n",
    "#x = np.arange(0, L, dx)        # x-array\n",
    "line, = ax.plot(k_f, np.abs(psi_k[0,:]) ** 2)\n",
    "\n",
    "def animate(i):\n",
    "    line.set_ydata(np.abs(psi_k[i,:]) ** 2)  # update the data\n",
    "    return line,\n",
    "\n",
    "#Init only required for blitting to give a clean slate.\n",
    "def init():\n",
    "    line.set_ydata(np.ma.array(k_f, mask=True))\n",
    "    return line,\n",
    "\n",
    "ani = animation.FuncAnimation(fig, animate, np.arange(1, Nt), init_func=init,\n",
    "    interval=20, blit=True)\n",
    "plt.show()\n"
   ]
  },
  {
   "cell_type": "code",
   "execution_count": null,
   "metadata": {
    "collapsed": true
   },
   "outputs": [],
   "source": []
  }
 ],
 "metadata": {
  "kernelspec": {
   "display_name": "Python 3",
   "language": "python",
   "name": "python3"
  },
  "language_info": {
   "codemirror_mode": {
    "name": "ipython",
    "version": 3
   },
   "file_extension": ".py",
   "mimetype": "text/x-python",
   "name": "python",
   "nbconvert_exporter": "python",
   "pygments_lexer": "ipython3",
   "version": "3.5.1"
  }
 },
 "nbformat": 4,
 "nbformat_minor": 0
}
